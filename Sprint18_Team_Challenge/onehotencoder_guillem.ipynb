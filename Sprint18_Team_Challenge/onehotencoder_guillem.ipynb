{
 "cells": [
  {
   "cell_type": "code",
   "execution_count": 1,
   "metadata": {},
   "outputs": [],
   "source": [
    "import pandas as pd\n",
    "\n",
    "df = pd.read_csv(\"./data/credit_npo.csv\")"
   ]
  },
  {
   "cell_type": "code",
   "execution_count": 1,
   "metadata": {},
   "outputs": [],
   "source": [
    "from sklearn.pipeline import Pipeline\n",
    "from sklearn.compose import ColumnTransformer\n",
    "from sklearn.impute import SimpleImputer\n",
    "from sklearn.preprocessing import OneHotEncoder, StandardScaler\n",
    "from sklearn.ensemble import RandomForestClassifier\n",
    "\n",
    "# He añadido las variables numericas en variable para que sean las que transformemos\n",
    "numeric_features = [\"age\", \"RevolvingUtilizationOfUnsecuredLines\", \"DebtRatio\", \"MonthlyIncome\"]\n",
    "categorical_features = []  # Aunque no lo planteo para las categoricas, creo la lista de variables categoricas igualmente\n",
    "\n",
    "# Pipeline para columnas numéricas--> Utilizo le simple imputer para que si hay valores faltantes me los rellene con la mediana, puedo cambiar eso por la media.\n",
    "# Luego hago el standarscaler para hacer que las variables numericas sean comparables\n",
    "numeric_pipeline = Pipeline([\n",
    "    (\"imputer\", SimpleImputer(strategy=\"median\")),\n",
    "    (\"scaler\", StandardScaler())\n",
    "])\n",
    "\n",
    "# Pipeline para columnas categóricas --> Aqui el simple imputer usa la moda al ser categorica\n",
    "# el onehotencoder transforma las variables categóricas en columnas binarias. \n",
    "# La opción handle_unknown=\"ignore\" asegura que el encoder no producirá errores si encuentra una categoría en los datos de validación o prueba que no estaba en el entrenamiento.\n",
    "categorical_pipeline = Pipeline([\n",
    "    (\"imputer\", SimpleImputer(strategy=\"most_frequent\")),\n",
    "    (\"onehot\", OneHotEncoder(handle_unknown=\"ignore\"))\n",
    "])\n",
    "\n",
    "# Pipeline completo con el que se aplicara a cualquier base de datos\n",
    "preprocessor = ColumnTransformer([\n",
    "    (\"num\", numeric_pipeline, numeric_features),\n",
    "    (\"cat\", categorical_pipeline, categorical_features)\n",
    "])\n",
    "\n",
    "model_pipeline = Pipeline([\n",
    "    (\"preprocessor\", preprocessor),\n",
    "    (\"classifier\", RandomForestClassifier())\n",
    "])\n",
    "\n",
    "# Aqui, el model_pipeline está preparado para entrenarse y usarse con datos de train, validación y test\n"
   ]
  }
 ],
 "metadata": {
  "kernelspec": {
   "display_name": "Python 3",
   "language": "python",
   "name": "python3"
  },
  "language_info": {
   "codemirror_mode": {
    "name": "ipython",
    "version": 3
   },
   "file_extension": ".py",
   "mimetype": "text/x-python",
   "name": "python",
   "nbconvert_exporter": "python",
   "pygments_lexer": "ipython3",
   "version": "3.12.3"
  }
 },
 "nbformat": 4,
 "nbformat_minor": 2
}
